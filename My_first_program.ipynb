{
 "cells": [
  {
   "cell_type": "markdown",
   "id": "8cead9c7",
   "metadata": {},
   "source": [
    "### \"Printing Hello world\""
   ]
  },
  {
   "cell_type": "code",
   "execution_count": 2,
   "id": "d18c81a5",
   "metadata": {},
   "outputs": [
    {
     "name": "stdout",
     "output_type": "stream",
     "text": [
      "Hello world\n"
     ]
    }
   ],
   "source": [
    "print(\"Hello world\")"
   ]
  },
  {
   "cell_type": "markdown",
   "id": "7feb4655",
   "metadata": {},
   "source": [
    "### python is case sensitive"
   ]
  },
  {
   "cell_type": "code",
   "execution_count": 3,
   "id": "2ab3a239",
   "metadata": {},
   "outputs": [
    {
     "name": "stdout",
     "output_type": "stream",
     "text": [
      "vyshnavi\n"
     ]
    }
   ],
   "source": [
    "print(\"vyshnavi\")"
   ]
  },
  {
   "cell_type": "markdown",
   "id": "faa8c4a9",
   "metadata": {},
   "source": [
    "### print your name now"
   ]
  },
  {
   "cell_type": "code",
   "execution_count": null,
   "id": "d250c453",
   "metadata": {},
   "outputs": [],
   "source": []
  },
  {
   "cell_type": "code",
   "execution_count": null,
   "id": "6fdd12eb",
   "metadata": {},
   "outputs": [],
   "source": []
  }
 ],
 "metadata": {
  "kernelspec": {
   "display_name": "Python 3 (ipykernel)",
   "language": "python",
   "name": "python3"
  },
  "language_info": {
   "codemirror_mode": {
    "name": "ipython",
    "version": 3
   },
   "file_extension": ".py",
   "mimetype": "text/x-python",
   "name": "python",
   "nbconvert_exporter": "python",
   "pygments_lexer": "ipython3",
   "version": "3.9.12"
  }
 },
 "nbformat": 4,
 "nbformat_minor": 5
}
